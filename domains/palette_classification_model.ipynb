{
 "cells": [
  {
   "cell_type": "markdown",
   "id": "a1a3a6d7",
   "metadata": {},
   "source": [
    "<center>\n",
    "    <h1>Identify Fruits from Color Palette</h1>\n",
    "</center>"
   ]
  },
  {
   "cell_type": "code",
   "execution_count": 248,
   "id": "aa12cb91",
   "metadata": {},
   "outputs": [],
   "source": [
    "import pandas as pd\n",
    "import numpy as np\n",
    "import pickle\n",
    "import seaborn as sns\n",
    "import matplotlib.pyplot as plt\n",
    "from sklearn.model_selection import train_test_split\n",
    "from pandas.plotting import parallel_coordinates\n",
    "from sklearn.tree import DecisionTreeClassifier, plot_tree\n",
    "from sklearn import metrics\n",
    "from sklearn.naive_bayes import GaussianNB\n",
    "from sklearn.discriminant_analysis import LinearDiscriminantAnalysis, QuadraticDiscriminantAnalysis\n",
    "from sklearn.neighbors import KNeighborsClassifier\n",
    "from sklearn.svm import SVC\n",
    "from sklearn.linear_model import LogisticRegression\n",
    "from PIL import ImageColor\n",
    "import pickle\n",
    "\n",
    "import logging\n",
    "import pandas as pd\n",
    "import numpy as np\n",
    "from numpy import random\n",
    "import nltk\n",
    "from sklearn.model_selection import train_test_split\n",
    "from sklearn.feature_extraction.text import CountVectorizer, TfidfVectorizer\n",
    "from sklearn.metrics import accuracy_score, confusion_matrix\n",
    "import matplotlib.pyplot as plt\n",
    "from nltk.corpus import stopwords\n",
    "import re\n",
    "from bs4 import BeautifulSoup"
   ]
  },
  {
   "cell_type": "markdown",
   "id": "7deca83e",
   "metadata": {},
   "source": [
    "## Load and Preprocess Data"
   ]
  },
  {
   "cell_type": "code",
   "execution_count": 124,
   "id": "46609ee8",
   "metadata": {},
   "outputs": [],
   "source": [
    "fa = r'C:\\Users\\623285\\Downloads\\train\\freshapples_test.csv'\n",
    "fb = r'C:\\Users\\623285\\Downloads\\train\\freshbanana_test.csv'\n",
    "fo = r'C:\\Users\\623285\\Downloads\\train\\freshoranges_test.csv'\n",
    "ra = r'C:\\Users\\623285\\Downloads\\train\\rottenapples_test.csv'\n",
    "rb = r'C:\\Users\\623285\\Downloads\\train\\rottenbanana_test.csv'\n",
    "ro = r'C:\\Users\\623285\\Downloads\\train\\rottenoranges_test.csv'"
   ]
  },
  {
   "cell_type": "code",
   "execution_count": 125,
   "id": "111f741d",
   "metadata": {},
   "outputs": [],
   "source": [
    "fa = pd.read_csv(fa, index_col=[0])\n",
    "fb = pd.read_csv(fb, index_col=[0])\n",
    "fo = pd.read_csv(fo, index_col=[0])\n",
    "ra = pd.read_csv(ra, index_col=[0])\n",
    "rb = pd.read_csv(rb, index_col=[0])\n",
    "ro = pd.read_csv(ro, index_col=[0])\n",
    "\n",
    "df_list = [fa, fb, fo, ra, rb, ro]"
   ]
  },
  {
   "cell_type": "code",
   "execution_count": 126,
   "id": "a74dfd27",
   "metadata": {},
   "outputs": [
    {
     "data": {
      "text/html": [
       "<div>\n",
       "<style scoped>\n",
       "    .dataframe tbody tr th:only-of-type {\n",
       "        vertical-align: middle;\n",
       "    }\n",
       "\n",
       "    .dataframe tbody tr th {\n",
       "        vertical-align: top;\n",
       "    }\n",
       "\n",
       "    .dataframe thead th {\n",
       "        text-align: right;\n",
       "    }\n",
       "</style>\n",
       "<table border=\"1\" class=\"dataframe\">\n",
       "  <thead>\n",
       "    <tr style=\"text-align: right;\">\n",
       "      <th></th>\n",
       "      <th>hex_code</th>\n",
       "      <th>total_pixels</th>\n",
       "      <th>type</th>\n",
       "    </tr>\n",
       "  </thead>\n",
       "  <tbody>\n",
       "    <tr>\n",
       "      <th>0</th>\n",
       "      <td>#FFFFFF</td>\n",
       "      <td>77706</td>\n",
       "      <td>freshapples</td>\n",
       "    </tr>\n",
       "    <tr>\n",
       "      <th>1</th>\n",
       "      <td>#801E15</td>\n",
       "      <td>37024</td>\n",
       "      <td>freshapples</td>\n",
       "    </tr>\n",
       "    <tr>\n",
       "      <th>2</th>\n",
       "      <td>#AE241A</td>\n",
       "      <td>24356</td>\n",
       "      <td>freshapples</td>\n",
       "    </tr>\n",
       "    <tr>\n",
       "      <th>3</th>\n",
       "      <td>#000000</td>\n",
       "      <td>21729</td>\n",
       "      <td>freshapples</td>\n",
       "    </tr>\n",
       "    <tr>\n",
       "      <th>4</th>\n",
       "      <td>#B43937</td>\n",
       "      <td>13971</td>\n",
       "      <td>freshapples</td>\n",
       "    </tr>\n",
       "  </tbody>\n",
       "</table>\n",
       "</div>"
      ],
      "text/plain": [
       "  hex_code  total_pixels         type\n",
       "0  #FFFFFF         77706  freshapples\n",
       "1  #801E15         37024  freshapples\n",
       "2  #AE241A         24356  freshapples\n",
       "3  #000000         21729  freshapples\n",
       "4  #B43937         13971  freshapples"
      ]
     },
     "execution_count": 126,
     "metadata": {},
     "output_type": "execute_result"
    }
   ],
   "source": [
    "df = pd.concat(df_list, ignore_index=True)\n",
    "df.head()"
   ]
  },
  {
   "cell_type": "code",
   "execution_count": 127,
   "id": "9042faa0",
   "metadata": {},
   "outputs": [
    {
     "name": "stderr",
     "output_type": "stream",
     "text": [
      "C:\\Users\\623285\\AppData\\Local\\Temp\\ipykernel_28836\\2884372044.py:2: SettingWithCopyWarning: \n",
      "A value is trying to be set on a copy of a slice from a DataFrame\n",
      "\n",
      "See the caveats in the documentation: https://pandas.pydata.org/pandas-docs/stable/user_guide/indexing.html#returning-a-view-versus-a-copy\n",
      "  df.hex_code[i] = list(ImageColor.getcolor(df.hex_code[i], \"RGB\"))\n"
     ]
    },
    {
     "data": {
      "text/html": [
       "<div>\n",
       "<style scoped>\n",
       "    .dataframe tbody tr th:only-of-type {\n",
       "        vertical-align: middle;\n",
       "    }\n",
       "\n",
       "    .dataframe tbody tr th {\n",
       "        vertical-align: top;\n",
       "    }\n",
       "\n",
       "    .dataframe thead th {\n",
       "        text-align: right;\n",
       "    }\n",
       "</style>\n",
       "<table border=\"1\" class=\"dataframe\">\n",
       "  <thead>\n",
       "    <tr style=\"text-align: right;\">\n",
       "      <th></th>\n",
       "      <th>hex_code</th>\n",
       "      <th>total_pixels</th>\n",
       "      <th>type</th>\n",
       "    </tr>\n",
       "  </thead>\n",
       "  <tbody>\n",
       "    <tr>\n",
       "      <th>0</th>\n",
       "      <td>[255, 255, 255]</td>\n",
       "      <td>77706</td>\n",
       "      <td>freshapples</td>\n",
       "    </tr>\n",
       "    <tr>\n",
       "      <th>1</th>\n",
       "      <td>[128, 30, 21]</td>\n",
       "      <td>37024</td>\n",
       "      <td>freshapples</td>\n",
       "    </tr>\n",
       "    <tr>\n",
       "      <th>2</th>\n",
       "      <td>[174, 36, 26]</td>\n",
       "      <td>24356</td>\n",
       "      <td>freshapples</td>\n",
       "    </tr>\n",
       "    <tr>\n",
       "      <th>3</th>\n",
       "      <td>[0, 0, 0]</td>\n",
       "      <td>21729</td>\n",
       "      <td>freshapples</td>\n",
       "    </tr>\n",
       "    <tr>\n",
       "      <th>4</th>\n",
       "      <td>[180, 57, 55]</td>\n",
       "      <td>13971</td>\n",
       "      <td>freshapples</td>\n",
       "    </tr>\n",
       "  </tbody>\n",
       "</table>\n",
       "</div>"
      ],
      "text/plain": [
       "          hex_code  total_pixels         type\n",
       "0  [255, 255, 255]         77706  freshapples\n",
       "1    [128, 30, 21]         37024  freshapples\n",
       "2    [174, 36, 26]         24356  freshapples\n",
       "3        [0, 0, 0]         21729  freshapples\n",
       "4    [180, 57, 55]         13971  freshapples"
      ]
     },
     "execution_count": 127,
     "metadata": {},
     "output_type": "execute_result"
    }
   ],
   "source": [
    "for i in range(0, len(df)):\n",
    "    df.hex_code[i] = list(ImageColor.getcolor(df.hex_code[i], \"RGB\"))\n",
    "    \n",
    "df.head()"
   ]
  },
  {
   "cell_type": "code",
   "execution_count": 243,
   "id": "fe4b1ae2",
   "metadata": {},
   "outputs": [
    {
     "data": {
      "text/html": [
       "<div>\n",
       "<style scoped>\n",
       "    .dataframe tbody tr th:only-of-type {\n",
       "        vertical-align: middle;\n",
       "    }\n",
       "\n",
       "    .dataframe tbody tr th {\n",
       "        vertical-align: top;\n",
       "    }\n",
       "\n",
       "    .dataframe thead th {\n",
       "        text-align: right;\n",
       "    }\n",
       "</style>\n",
       "<table border=\"1\" class=\"dataframe\">\n",
       "  <thead>\n",
       "    <tr style=\"text-align: right;\">\n",
       "      <th></th>\n",
       "      <th>hex_code</th>\n",
       "      <th>total_pixels</th>\n",
       "      <th>type</th>\n",
       "      <th>r</th>\n",
       "      <th>g</th>\n",
       "      <th>b</th>\n",
       "    </tr>\n",
       "  </thead>\n",
       "  <tbody>\n",
       "    <tr>\n",
       "      <th>0</th>\n",
       "      <td>[255, 255, 255]</td>\n",
       "      <td>77706</td>\n",
       "      <td>freshapples</td>\n",
       "      <td>255</td>\n",
       "      <td>255</td>\n",
       "      <td>255</td>\n",
       "    </tr>\n",
       "    <tr>\n",
       "      <th>1</th>\n",
       "      <td>[128, 30, 21]</td>\n",
       "      <td>37024</td>\n",
       "      <td>freshapples</td>\n",
       "      <td>128</td>\n",
       "      <td>30</td>\n",
       "      <td>21</td>\n",
       "    </tr>\n",
       "    <tr>\n",
       "      <th>2</th>\n",
       "      <td>[174, 36, 26]</td>\n",
       "      <td>24356</td>\n",
       "      <td>freshapples</td>\n",
       "      <td>174</td>\n",
       "      <td>36</td>\n",
       "      <td>26</td>\n",
       "    </tr>\n",
       "    <tr>\n",
       "      <th>3</th>\n",
       "      <td>[0, 0, 0]</td>\n",
       "      <td>21729</td>\n",
       "      <td>freshapples</td>\n",
       "      <td>0</td>\n",
       "      <td>0</td>\n",
       "      <td>0</td>\n",
       "    </tr>\n",
       "    <tr>\n",
       "      <th>4</th>\n",
       "      <td>[180, 57, 55]</td>\n",
       "      <td>13971</td>\n",
       "      <td>freshapples</td>\n",
       "      <td>180</td>\n",
       "      <td>57</td>\n",
       "      <td>55</td>\n",
       "    </tr>\n",
       "  </tbody>\n",
       "</table>\n",
       "</div>"
      ],
      "text/plain": [
       "          hex_code  total_pixels         type    r    g    b\n",
       "0  [255, 255, 255]         77706  freshapples  255  255  255\n",
       "1    [128, 30, 21]         37024  freshapples  128   30   21\n",
       "2    [174, 36, 26]         24356  freshapples  174   36   26\n",
       "3        [0, 0, 0]         21729  freshapples    0    0    0\n",
       "4    [180, 57, 55]         13971  freshapples  180   57   55"
      ]
     },
     "execution_count": 243,
     "metadata": {},
     "output_type": "execute_result"
    }
   ],
   "source": [
    "data = pd.DataFrame(df['hex_code'].to_list(), columns=['r','g', 'b'])\n",
    "data = pd.concat([df, data], axis=1) \n",
    "data.head()"
   ]
  },
  {
   "cell_type": "code",
   "execution_count": 244,
   "id": "1cb146d2",
   "metadata": {},
   "outputs": [],
   "source": [
    "## replace label\n",
    "data['type'] = data['type'].replace(['freshapples'],'Fresh Apple')\n",
    "data['type'] = data['type'].replace(['freshbanana'],'Fresh Banana')\n",
    "data['type'] = data['type'].replace(['freshoranges'],'Fresh Orange')\n",
    "data['type'] = data['type'].replace(['rottenapples'],'Rotten Apple')\n",
    "data['type'] = data['type'].replace(['rottenbanana'],'Rotten Banana')\n",
    "data['type'] = data['type'].replace(['rottenoranges'],'Rotten Orange')\n",
    "\n",
    "# data_short = data\n",
    "# data_short['type'] = data_short['type'].replace(['freshapples'],'Fresh')\n",
    "# data_short['type'] = data_short['type'].replace(['freshbanana'],'Fresh')\n",
    "# data_short['type'] = data_short['type'].replace(['freshoranges'],'Fresh')\n",
    "# data_short['type'] = data_short['type'].replace(['rottenapples'],'Rotten')\n",
    "# data_short['type'] = data_short['type'].replace(['rottenbanana'],'Rotten')\n",
    "# data_short['type'] = data_short['type'].replace(['rottenoranges'],'Rotten')"
   ]
  },
  {
   "cell_type": "code",
   "execution_count": 245,
   "id": "4083ac70",
   "metadata": {},
   "outputs": [
    {
     "data": {
      "text/plain": [
       "array(['Fresh Apple', 'Fresh Banana', 'Fresh Orange', 'Rotten Apple',\n",
       "       'Rotten Banana', 'Rotten Orange'], dtype=object)"
      ]
     },
     "execution_count": 245,
     "metadata": {},
     "output_type": "execute_result"
    }
   ],
   "source": [
    "data.type.unique()"
   ]
  },
  {
   "cell_type": "code",
   "execution_count": 238,
   "id": "ea3548d0",
   "metadata": {},
   "outputs": [
    {
     "data": {
      "text/plain": [
       "array(['Fresh', 'Rotten'], dtype=object)"
      ]
     },
     "execution_count": 238,
     "metadata": {},
     "output_type": "execute_result"
    }
   ],
   "source": [
    "data_short.type.unique()"
   ]
  },
  {
   "cell_type": "markdown",
   "id": "7544f2e6",
   "metadata": {},
   "source": [
    "## Train/Test Split"
   ]
  },
  {
   "cell_type": "code",
   "execution_count": 246,
   "id": "44bc935c",
   "metadata": {},
   "outputs": [],
   "source": [
    "y = data['type'].to_frame()\n",
    "X = data.drop(['type', 'hex_code'], axis=1)\n",
    "x_train, x_test, y_train, y_test = train_test_split(X, y, test_size=0.2, stratify=y, random_state = 42)"
   ]
  },
  {
   "cell_type": "code",
   "execution_count": 247,
   "id": "c474135f",
   "metadata": {},
   "outputs": [],
   "source": [
    "y_short = data_short['type'].to_frame()\n",
    "X_short = data_short.drop(['type', 'hex_code'], axis=1)\n",
    "x_train_short, x_test_short, y_train_short, y_test_short = train_test_split(X_short, y_short, test_size=0.2, stratify=y_short, random_state = 42)"
   ]
  },
  {
   "cell_type": "markdown",
   "id": "68cd9d7c",
   "metadata": {},
   "source": [
    "## Train Models and Save to .pkl"
   ]
  },
  {
   "cell_type": "code",
   "execution_count": 289,
   "id": "0d9bf603",
   "metadata": {},
   "outputs": [],
   "source": [
    "results = pd.DataFrame([], columns = ['Model', 'Trained For', 'Accuracy'])\n",
    "name = []\n",
    "tfor = []\n",
    "acc = []"
   ]
  },
  {
   "cell_type": "code",
   "execution_count": 290,
   "id": "0684fabf",
   "metadata": {},
   "outputs": [
    {
     "name": "stdout",
     "output_type": "stream",
     "text": [
      "The accuracy of the Decision Tree is 0.732\n"
     ]
    }
   ],
   "source": [
    "mod_dt = DecisionTreeClassifier()\n",
    "mod_dt.fit(x_train,y_train)\n",
    "prediction=mod_dt.predict(x_test)\n",
    "print('The accuracy of the Decision Tree is',\"{:.3f}\".format(metrics.accuracy_score(prediction,y_test)))\n",
    "pickle.dump(mod_dt, open('dt.pkl', 'wb'))\n",
    "name.append('Decision Tree')\n",
    "tfor.append('Fresh/Rotten *fruit type*')\n",
    "acc.append(metrics.accuracy_score(prediction,y_test))"
   ]
  },
  {
   "cell_type": "code",
   "execution_count": 291,
   "id": "822c2c83",
   "metadata": {},
   "outputs": [
    {
     "name": "stdout",
     "output_type": "stream",
     "text": [
      "The accuracy of the Decision Tree is 0.841\n"
     ]
    }
   ],
   "source": [
    "mod_dt = DecisionTreeClassifier()\n",
    "mod_dt.fit(x_train_short,y_train_short)\n",
    "prediction=mod_dt.predict(x_test_short)\n",
    "print('The accuracy of the Decision Tree is',\"{:.3f}\".format(metrics.accuracy_score(prediction,y_test_short)))\n",
    "pickle.dump(mod_dt, open('dt_short.pkl', 'wb'))\n",
    "name.append('Decision Tree')\n",
    "tfor.append('Fresh/Rotten')\n",
    "acc.append(metrics.accuracy_score(prediction,y_test_short))"
   ]
  },
  {
   "cell_type": "code",
   "execution_count": 292,
   "id": "a1000da9",
   "metadata": {},
   "outputs": [
    {
     "name": "stderr",
     "output_type": "stream",
     "text": [
      "C:\\Users\\623285\\AppData\\Local\\Programs\\Python\\Python310\\lib\\site-packages\\sklearn\\utils\\validation.py:1107: DataConversionWarning: A column-vector y was passed when a 1d array was expected. Please change the shape of y to (n_samples, ), for example using ravel().\n",
      "  y = column_or_1d(y, warn=True)\n"
     ]
    },
    {
     "name": "stdout",
     "output_type": "stream",
     "text": [
      "The accuracy of the Guassian Naive Bayes is 0.262\n"
     ]
    }
   ],
   "source": [
    "mod_dt = GaussianNB()\n",
    "mod_dt.fit(x_train,y_train)\n",
    "prediction=mod_dt.predict(x_test)\n",
    "print('The accuracy of the Guassian Naive Bayes is',\"{:.3f}\".format(metrics.accuracy_score(prediction,y_test)))\n",
    "pickle.dump(mod_dt, open('gnb.pkl', 'wb'))\n",
    "name.append('Guassian Naive Bayes')\n",
    "tfor.append('Fresh/Rotten *fruit type*')\n",
    "acc.append(metrics.accuracy_score(prediction,y_test))"
   ]
  },
  {
   "cell_type": "code",
   "execution_count": 293,
   "id": "a54bb9eb",
   "metadata": {},
   "outputs": [
    {
     "name": "stderr",
     "output_type": "stream",
     "text": [
      "C:\\Users\\623285\\AppData\\Local\\Programs\\Python\\Python310\\lib\\site-packages\\sklearn\\utils\\validation.py:1107: DataConversionWarning: A column-vector y was passed when a 1d array was expected. Please change the shape of y to (n_samples, ), for example using ravel().\n",
      "  y = column_or_1d(y, warn=True)\n"
     ]
    },
    {
     "name": "stdout",
     "output_type": "stream",
     "text": [
      "The accuracy of the Guassian Naive Bayes is 0.594\n"
     ]
    }
   ],
   "source": [
    "mod_dt = GaussianNB()\n",
    "mod_dt.fit(x_train_short,y_train_short)\n",
    "prediction=mod_dt.predict(x_test_short)\n",
    "print('The accuracy of the Guassian Naive Bayes is',\"{:.3f}\".format(metrics.accuracy_score(prediction,y_test_short)))\n",
    "pickle.dump(mod_dt, open('gnb_short.pkl', 'wb'))\n",
    "name.append('Guassian Naive Bayes')\n",
    "tfor.append('Fresh/Rotten')\n",
    "acc.append(metrics.accuracy_score(prediction,y_test_short))"
   ]
  },
  {
   "cell_type": "code",
   "execution_count": 294,
   "id": "ebf81857",
   "metadata": {},
   "outputs": [
    {
     "name": "stderr",
     "output_type": "stream",
     "text": [
      "C:\\Users\\623285\\AppData\\Local\\Programs\\Python\\Python310\\lib\\site-packages\\sklearn\\neighbors\\_classification.py:200: DataConversionWarning: A column-vector y was passed when a 1d array was expected. Please change the shape of y to (n_samples,), for example using ravel().\n",
      "  return self._fit(X, y)\n"
     ]
    },
    {
     "name": "stdout",
     "output_type": "stream",
     "text": [
      "The accuracy of the KNN is 0.510\n"
     ]
    }
   ],
   "source": [
    "mod_dt = KNeighborsClassifier()\n",
    "mod_dt.fit(x_train,y_train)\n",
    "prediction=mod_dt.predict(x_test)\n",
    "print('The accuracy of the KNN is',\"{:.3f}\".format(metrics.accuracy_score(prediction,y_test)))\n",
    "pickle.dump(mod_dt, open('knn.pkl', 'wb'))\n",
    "name.append('KNN')\n",
    "tfor.append('Fresh/Rotten *fruit type*')\n",
    "acc.append(metrics.accuracy_score(prediction,y_test))"
   ]
  },
  {
   "cell_type": "code",
   "execution_count": 295,
   "id": "890e7eae",
   "metadata": {},
   "outputs": [
    {
     "name": "stderr",
     "output_type": "stream",
     "text": [
      "C:\\Users\\623285\\AppData\\Local\\Programs\\Python\\Python310\\lib\\site-packages\\sklearn\\neighbors\\_classification.py:200: DataConversionWarning: A column-vector y was passed when a 1d array was expected. Please change the shape of y to (n_samples,), for example using ravel().\n",
      "  return self._fit(X, y)\n"
     ]
    },
    {
     "name": "stdout",
     "output_type": "stream",
     "text": [
      "The accuracy of the KNN is 0.729\n"
     ]
    }
   ],
   "source": [
    "mod_dt = KNeighborsClassifier()\n",
    "mod_dt.fit(x_train_short,y_train_short)\n",
    "prediction=mod_dt.predict(x_test_short)\n",
    "print('The accuracy of the KNN is',\"{:.3f}\".format(metrics.accuracy_score(prediction,y_test_short)))\n",
    "pickle.dump(mod_dt, open('knn_short.pkl', 'wb'))\n",
    "name.append('KNN')\n",
    "tfor.append('Fresh/Rotten')\n",
    "acc.append(metrics.accuracy_score(prediction,y_test_short))"
   ]
  },
  {
   "cell_type": "code",
   "execution_count": 296,
   "id": "12458761",
   "metadata": {},
   "outputs": [
    {
     "name": "stderr",
     "output_type": "stream",
     "text": [
      "C:\\Users\\623285\\AppData\\Local\\Programs\\Python\\Python310\\lib\\site-packages\\sklearn\\utils\\validation.py:1107: DataConversionWarning: A column-vector y was passed when a 1d array was expected. Please change the shape of y to (n_samples, ), for example using ravel().\n",
      "  y = column_or_1d(y, warn=True)\n"
     ]
    },
    {
     "name": "stdout",
     "output_type": "stream",
     "text": [
      "The accuracy of the LDA is 0.360\n"
     ]
    }
   ],
   "source": [
    "mod_dt = LinearDiscriminantAnalysis()\n",
    "mod_dt.fit(x_train,y_train)\n",
    "prediction=mod_dt.predict(x_test)\n",
    "print('The accuracy of the LDA is',\"{:.3f}\".format(metrics.accuracy_score(prediction,y_test)))\n",
    "pickle.dump(mod_dt, open('lda.pkl', 'wb'))\n",
    "name.append('LDA')\n",
    "tfor.append('Fresh/Rotten *fruit type*')\n",
    "acc.append(metrics.accuracy_score(prediction,y_test))"
   ]
  },
  {
   "cell_type": "code",
   "execution_count": 297,
   "id": "04b5c3aa",
   "metadata": {},
   "outputs": [
    {
     "name": "stderr",
     "output_type": "stream",
     "text": [
      "C:\\Users\\623285\\AppData\\Local\\Programs\\Python\\Python310\\lib\\site-packages\\sklearn\\utils\\validation.py:1107: DataConversionWarning: A column-vector y was passed when a 1d array was expected. Please change the shape of y to (n_samples, ), for example using ravel().\n",
      "  y = column_or_1d(y, warn=True)\n"
     ]
    },
    {
     "name": "stdout",
     "output_type": "stream",
     "text": [
      "The accuracy of the LDA is 0.657\n"
     ]
    }
   ],
   "source": [
    "mod_dt = LinearDiscriminantAnalysis()\n",
    "mod_dt.fit(x_train_short,y_train_short)\n",
    "prediction=mod_dt.predict(x_test_short)\n",
    "print('The accuracy of the LDA is',\"{:.3f}\".format(metrics.accuracy_score(prediction,y_test_short)))\n",
    "pickle.dump(mod_dt, open('lda_short.pkl', 'wb'))\n",
    "name.append('LDA')\n",
    "tfor.append('Fresh/Rotten')\n",
    "acc.append(metrics.accuracy_score(prediction,y_test_short))"
   ]
  },
  {
   "cell_type": "code",
   "execution_count": 298,
   "id": "e52d2965",
   "metadata": {},
   "outputs": [
    {
     "name": "stderr",
     "output_type": "stream",
     "text": [
      "C:\\Users\\623285\\AppData\\Local\\Programs\\Python\\Python310\\lib\\site-packages\\sklearn\\utils\\validation.py:1107: DataConversionWarning: A column-vector y was passed when a 1d array was expected. Please change the shape of y to (n_samples, ), for example using ravel().\n",
      "  y = column_or_1d(y, warn=True)\n"
     ]
    },
    {
     "name": "stdout",
     "output_type": "stream",
     "text": [
      "The accuracy of the QDA is 0.418\n"
     ]
    }
   ],
   "source": [
    "mod_dt = QuadraticDiscriminantAnalysis()\n",
    "mod_dt.fit(x_train,y_train)\n",
    "prediction=mod_dt.predict(x_test)\n",
    "print('The accuracy of the QDA is',\"{:.3f}\".format(metrics.accuracy_score(prediction,y_test)))\n",
    "pickle.dump(mod_dt, open('qda.pkl', 'wb'))\n",
    "name.append('QDA')\n",
    "tfor.append('Fresh/Rotten *fruit type*')\n",
    "acc.append(metrics.accuracy_score(prediction,y_test))"
   ]
  },
  {
   "cell_type": "code",
   "execution_count": 299,
   "id": "6bf24bb3",
   "metadata": {},
   "outputs": [
    {
     "name": "stderr",
     "output_type": "stream",
     "text": [
      "C:\\Users\\623285\\AppData\\Local\\Programs\\Python\\Python310\\lib\\site-packages\\sklearn\\utils\\validation.py:1107: DataConversionWarning: A column-vector y was passed when a 1d array was expected. Please change the shape of y to (n_samples, ), for example using ravel().\n",
      "  y = column_or_1d(y, warn=True)\n"
     ]
    },
    {
     "name": "stdout",
     "output_type": "stream",
     "text": [
      "The accuracy of the QDA is 0.691\n"
     ]
    }
   ],
   "source": [
    "mod_dt = QuadraticDiscriminantAnalysis()\n",
    "mod_dt.fit(x_train_short,y_train_short)\n",
    "prediction=mod_dt.predict(x_test_short)\n",
    "print('The accuracy of the QDA is',\"{:.3f}\".format(metrics.accuracy_score(prediction,y_test_short)))\n",
    "pickle.dump(mod_dt, open('qda_short.pkl', 'wb'))\n",
    "name.append('QDA')\n",
    "tfor.append('Fresh/Rotten')\n",
    "acc.append(metrics.accuracy_score(prediction,y_test_short))"
   ]
  },
  {
   "cell_type": "code",
   "execution_count": 300,
   "id": "93f53f18",
   "metadata": {},
   "outputs": [
    {
     "name": "stderr",
     "output_type": "stream",
     "text": [
      "C:\\Users\\623285\\AppData\\Local\\Programs\\Python\\Python310\\lib\\site-packages\\sklearn\\utils\\validation.py:1107: DataConversionWarning: A column-vector y was passed when a 1d array was expected. Please change the shape of y to (n_samples, ), for example using ravel().\n",
      "  y = column_or_1d(y, warn=True)\n"
     ]
    },
    {
     "name": "stdout",
     "output_type": "stream",
     "text": [
      "The accuracy of the Logistic Regression is 0.296\n"
     ]
    },
    {
     "name": "stderr",
     "output_type": "stream",
     "text": [
      "C:\\Users\\623285\\AppData\\Local\\Programs\\Python\\Python310\\lib\\site-packages\\sklearn\\linear_model\\_logistic.py:444: ConvergenceWarning: lbfgs failed to converge (status=1):\n",
      "STOP: TOTAL NO. of ITERATIONS REACHED LIMIT.\n",
      "\n",
      "Increase the number of iterations (max_iter) or scale the data as shown in:\n",
      "    https://scikit-learn.org/stable/modules/preprocessing.html\n",
      "Please also refer to the documentation for alternative solver options:\n",
      "    https://scikit-learn.org/stable/modules/linear_model.html#logistic-regression\n",
      "  n_iter_i = _check_optimize_result(\n"
     ]
    }
   ],
   "source": [
    "mod_dt = LogisticRegression()\n",
    "mod_dt.fit(x_train,y_train)\n",
    "prediction=mod_dt.predict(x_test)\n",
    "print('The accuracy of the Logistic Regression is',\"{:.3f}\".format(metrics.accuracy_score(prediction,y_test)))\n",
    "pickle.dump(mod_dt, open('lr.pkl', 'wb'))\n",
    "name.append('Logistic Regression')\n",
    "tfor.append('Fresh/Rotten *fruit type*')\n",
    "acc.append(metrics.accuracy_score(prediction,y_test))"
   ]
  },
  {
   "cell_type": "code",
   "execution_count": 301,
   "id": "79b37801",
   "metadata": {},
   "outputs": [
    {
     "name": "stderr",
     "output_type": "stream",
     "text": [
      "C:\\Users\\623285\\AppData\\Local\\Programs\\Python\\Python310\\lib\\site-packages\\sklearn\\utils\\validation.py:1107: DataConversionWarning: A column-vector y was passed when a 1d array was expected. Please change the shape of y to (n_samples, ), for example using ravel().\n",
      "  y = column_or_1d(y, warn=True)\n"
     ]
    },
    {
     "name": "stdout",
     "output_type": "stream",
     "text": [
      "The accuracy of the Logistic Regression is 0.632\n"
     ]
    }
   ],
   "source": [
    "mod_dt = LogisticRegression()\n",
    "mod_dt.fit(x_train_short,y_train_short)\n",
    "prediction=mod_dt.predict(x_test_short)\n",
    "print('The accuracy of the Logistic Regression is',\"{:.3f}\".format(metrics.accuracy_score(prediction,y_test_short)))\n",
    "pickle.dump(mod_dt, open('lr_short.pkl', 'wb'))\n",
    "name.append('Logistic Regression')\n",
    "tfor.append('Fresh/Rotten')\n",
    "acc.append(metrics.accuracy_score(prediction,y_test_short))"
   ]
  },
  {
   "cell_type": "code",
   "execution_count": 302,
   "id": "e17bca26",
   "metadata": {},
   "outputs": [
    {
     "data": {
      "text/html": [
       "<div>\n",
       "<style scoped>\n",
       "    .dataframe tbody tr th:only-of-type {\n",
       "        vertical-align: middle;\n",
       "    }\n",
       "\n",
       "    .dataframe tbody tr th {\n",
       "        vertical-align: top;\n",
       "    }\n",
       "\n",
       "    .dataframe thead th {\n",
       "        text-align: right;\n",
       "    }\n",
       "</style>\n",
       "<table border=\"1\" class=\"dataframe\">\n",
       "  <thead>\n",
       "    <tr style=\"text-align: right;\">\n",
       "      <th></th>\n",
       "      <th>Model</th>\n",
       "      <th>Trained For</th>\n",
       "      <th>Accuracy</th>\n",
       "    </tr>\n",
       "  </thead>\n",
       "  <tbody>\n",
       "    <tr>\n",
       "      <th>0</th>\n",
       "      <td>Decision Tree</td>\n",
       "      <td>Fresh/Rotten *fruit type*</td>\n",
       "      <td>0.731945</td>\n",
       "    </tr>\n",
       "    <tr>\n",
       "      <th>1</th>\n",
       "      <td>Decision Tree</td>\n",
       "      <td>Fresh/Rotten</td>\n",
       "      <td>0.840878</td>\n",
       "    </tr>\n",
       "    <tr>\n",
       "      <th>2</th>\n",
       "      <td>Guassian Naive Bayes</td>\n",
       "      <td>Fresh/Rotten *fruit type*</td>\n",
       "      <td>0.261922</td>\n",
       "    </tr>\n",
       "    <tr>\n",
       "      <th>3</th>\n",
       "      <td>Guassian Naive Bayes</td>\n",
       "      <td>Fresh/Rotten</td>\n",
       "      <td>0.593517</td>\n",
       "    </tr>\n",
       "    <tr>\n",
       "      <th>4</th>\n",
       "      <td>KNN</td>\n",
       "      <td>Fresh/Rotten *fruit type*</td>\n",
       "      <td>0.509909</td>\n",
       "    </tr>\n",
       "    <tr>\n",
       "      <th>5</th>\n",
       "      <td>KNN</td>\n",
       "      <td>Fresh/Rotten</td>\n",
       "      <td>0.729442</td>\n",
       "    </tr>\n",
       "    <tr>\n",
       "      <th>6</th>\n",
       "      <td>LDA</td>\n",
       "      <td>Fresh/Rotten *fruit type*</td>\n",
       "      <td>0.359756</td>\n",
       "    </tr>\n",
       "    <tr>\n",
       "      <th>7</th>\n",
       "      <td>LDA</td>\n",
       "      <td>Fresh/Rotten</td>\n",
       "      <td>0.656848</td>\n",
       "    </tr>\n",
       "    <tr>\n",
       "      <th>8</th>\n",
       "      <td>QDA</td>\n",
       "      <td>Fresh/Rotten *fruit type*</td>\n",
       "      <td>0.418040</td>\n",
       "    </tr>\n",
       "    <tr>\n",
       "      <th>9</th>\n",
       "      <td>QDA</td>\n",
       "      <td>Fresh/Rotten</td>\n",
       "      <td>0.691351</td>\n",
       "    </tr>\n",
       "    <tr>\n",
       "      <th>10</th>\n",
       "      <td>Logistic Regression</td>\n",
       "      <td>Fresh/Rotten *fruit type*</td>\n",
       "      <td>0.296216</td>\n",
       "    </tr>\n",
       "    <tr>\n",
       "      <th>11</th>\n",
       "      <td>Logistic Regression</td>\n",
       "      <td>Fresh/Rotten</td>\n",
       "      <td>0.631983</td>\n",
       "    </tr>\n",
       "  </tbody>\n",
       "</table>\n",
       "</div>"
      ],
      "text/plain": [
       "                   Model                Trained For  Accuracy\n",
       "0          Decision Tree  Fresh/Rotten *fruit type*  0.731945\n",
       "1          Decision Tree               Fresh/Rotten  0.840878\n",
       "2   Guassian Naive Bayes  Fresh/Rotten *fruit type*  0.261922\n",
       "3   Guassian Naive Bayes               Fresh/Rotten  0.593517\n",
       "4                    KNN  Fresh/Rotten *fruit type*  0.509909\n",
       "5                    KNN               Fresh/Rotten  0.729442\n",
       "6                    LDA  Fresh/Rotten *fruit type*  0.359756\n",
       "7                    LDA               Fresh/Rotten  0.656848\n",
       "8                    QDA  Fresh/Rotten *fruit type*  0.418040\n",
       "9                    QDA               Fresh/Rotten  0.691351\n",
       "10   Logistic Regression  Fresh/Rotten *fruit type*  0.296216\n",
       "11   Logistic Regression               Fresh/Rotten  0.631983"
      ]
     },
     "execution_count": 302,
     "metadata": {},
     "output_type": "execute_result"
    }
   ],
   "source": [
    "results['Model'] = name\n",
    "results['Trained For'] = tfor\n",
    "results['Accuracy'] = acc\n",
    "\n",
    "results"
   ]
  },
  {
   "cell_type": "markdown",
   "id": "e960f4bd",
   "metadata": {},
   "source": [
    "## Testing Model"
   ]
  },
  {
   "cell_type": "code",
   "execution_count": 99,
   "id": "8952ebde",
   "metadata": {},
   "outputs": [],
   "source": [
    "from statistics import mode\n",
    "\n",
    "def pix_fruitID(data, model_path):\n",
    "    # load model\n",
    "    loaded_model = pickle.load(open(model_path, 'rb'))\n",
    "#     for i in range(0, len(data)):\n",
    "#         data.hex_code[i] = list(ImageColor.getcolor(data.hex_code[i], \"RGB\"))\n",
    "#     df = data.drop('hex_code', axis=1)\n",
    "    \n",
    "    return loaded_model.predict(df), loaded_model.predict_prob(df)"
   ]
  }
 ],
 "metadata": {
  "kernelspec": {
   "display_name": "Python 3 (ipykernel)",
   "language": "python",
   "name": "python3"
  },
  "language_info": {
   "codemirror_mode": {
    "name": "ipython",
    "version": 3
   },
   "file_extension": ".py",
   "mimetype": "text/x-python",
   "name": "python",
   "nbconvert_exporter": "python",
   "pygments_lexer": "ipython3",
   "version": "3.10.8"
  }
 },
 "nbformat": 4,
 "nbformat_minor": 5
}
